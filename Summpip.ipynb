{
 "cells": [
  {
   "attachments": {},
   "cell_type": "markdown",
   "metadata": {},
   "source": [
    "Summpip Paper Implementation"
   ]
  },
  {
   "cell_type": "code",
   "execution_count": 1,
   "metadata": {},
   "outputs": [
    {
     "name": "stderr",
     "output_type": "stream",
     "text": [
      "2023-05-06 10:59:30.289784: I tensorflow/core/util/port.cc:110] oneDNN custom operations are on. You may see slightly different numerical results due to floating-point round-off errors from different computation orders. To turn them off, set the environment variable `TF_ENABLE_ONEDNN_OPTS=0`.\n",
      "2023-05-06 10:59:30.305868: I tensorflow/tsl/cuda/cudart_stub.cc:28] Could not find cuda drivers on your machine, GPU will not be used.\n",
      "2023-05-06 10:59:30.422332: I tensorflow/tsl/cuda/cudart_stub.cc:28] Could not find cuda drivers on your machine, GPU will not be used.\n",
      "2023-05-06 10:59:30.423414: I tensorflow/core/platform/cpu_feature_guard.cc:182] This TensorFlow binary is optimized to use available CPU instructions in performance-critical operations.\n",
      "To enable the following instructions: AVX2 AVX_VNNI FMA, in other operations, rebuild TensorFlow with the appropriate compiler flags.\n",
      "2023-05-06 10:59:32.245476: W tensorflow/compiler/tf2tensorrt/utils/py_utils.cc:38] TF-TRT Warning: Could not find TensorRT\n"
     ]
    },
    {
     "name": "stdout",
     "output_type": "stream",
     "text": [
      "Requirement already satisfied: rouge in /home/siddhant/Documents/Acads/SEM2/SMAI/project/gradboost/.venv/lib/python3.10/site-packages (1.0.1)\n",
      "Requirement already satisfied: six in /home/siddhant/Documents/Acads/SEM2/SMAI/project/gradboost/.venv/lib/python3.10/site-packages (from rouge) (1.16.0)\n"
     ]
    },
    {
     "name": "stderr",
     "output_type": "stream",
     "text": [
      "[nltk_data] Downloading package wordnet to /home/siddhant/nltk_data...\n",
      "[nltk_data]   Package wordnet is already up-to-date!\n",
      "[nltk_data] Downloading package punkt to /home/siddhant/nltk_data...\n",
      "[nltk_data]   Package punkt is already up-to-date!\n"
     ]
    }
   ],
   "source": [
    "#make all necessary imports\n",
    "import numpy as np\n",
    "import nltk\n",
    "import nltk.data\n",
    "import os\n",
    "import spacy\n",
    "import tensorflow_hub as hub\n",
    "import copy\n",
    "import gensim.downloader as api\n",
    "!pip install rouge\n",
    "import spacy\n",
    "import scipy\n",
    "import matplotlib.pyplot as plt\n",
    "import networkx as nx\n",
    "from tqdm import tqdm\n",
    "from rouge import Rouge\n",
    "from sklearn.cluster import SpectralClustering\n",
    "nltk.download('wordnet')\n",
    "nltk.download('punkt')\n",
    "from nltk.corpus import wordnet as wn\n",
    "from ordered_set import OrderedSet\n",
    "sentence_detector = nltk.data.load('tokenizers/punkt/english.pickle')\n",
    "# use_tensorflow_embedding = hub.load(\"https://tfhub.dev/google/universal-sentence-encoder/4\")\n",
    "glove_word_vectors = api.load(\"glove-wiki-gigaword-100\")"
   ]
  },
  {
   "attachments": {},
   "cell_type": "markdown",
   "metadata": {},
   "source": [
    "Extracting Sentences out of Data. (Preprocessing Step)"
   ]
  },
  {
   "cell_type": "code",
   "execution_count": 2,
   "metadata": {},
   "outputs": [
    {
     "name": "stdout",
     "output_type": "stream",
     "text": [
      "[\"GOP Eyes Gains As Voters In 11 States Pick Governors Enlarge this image toggle caption Jim Cole / AP Jim Cole / AP Voters in 11 states will pick their governors tonight , and Republicans appear on track to increase their numbers by at least one , with the potential to extend their hold to more than two - thirds of the nation 's top state offices .\", 'Eight of the gubernatorial seats up for grabs are now held by Democrats ; three are in Republican hands .', \"Republicans currently hold 29 governorships , Democrats have 20 , and Rhode Island 's Gov.\", 'Lincoln Chafee is an Independent .', \"Polls and race analysts suggest that only three of tonight 's contests are considered competitive , all in states where incumbent Democratic governors are n't running again : Montana , New Hampshire and Washington .\", 'While those state races remain too close to call , Republicans are expected to wrest the North Carolina governorship from Democratic control , and to easily win GOP - held seats in Utah , North Dakota and Indiana .', 'Democrats are likely to hold on to their seats in West Virginia and Missouri , and are expected to notch safe wins in races for seats they hold in Vermont and Delaware .', \"Holding Sway On Health Care While the occupant of the governor 's office is historically far less important than the party that controls the state legislature , top state officials in coming years are expected to wield significant influence in at least one major area .\", 'And that \\'s health care , says political scientist Thad Kousser , co - author of The Power of American Governors . \"', \"No matter who wins the  GOP Eyes Gains As Voters In 11 States Pick Governors Jim Cole / AP i Jim Cole / AP Voters in 11 states will pick their governors tonight , and Republicans appear on track to increase their numbers by at least one , and with the potential to extend their hold to more than two - thirds of the nation 's top state offices .\", 'Eight of the gubernatorial seats up for grabs today are now held by Democrats ; three are in Republican hands .', \"Republicans currently hold 29 governorships , Democrats have 20 ; and Rhode Island 's Gov.\", 'Lincoln Chafee is an Independent .', \"Polls and race analysts suggest that only three of tonight 's contests are considered competitive , all in states where incumbent Democratic governors are n't running again : Montana , New Hampshire and Washington .\", 'While those state races remain too close to call , Republicans are expected to wrest the North Carolina governorship from Democratic control , and to easily win GOP - held seats in Utah , North Dakota and Indiana .', 'Democrats are likely hold on to their seats in West Virginia and Missouri ; and expected to notch safe wins in races for seats they hold in Vermont and Delaware .', \"Holding Sway On Health Care While the occupant of the governor 's office is historically far less important than the party that controls the state legislature , top state officials in coming years are expected to wield significant influence in at least one major area .\", 'And that \\'s health care , says political scientist Thad Kousser , co - author of The Power of American Governors . \"', 'No matter who wins the']\n",
      "['UPDATE : 4/19/2001 Read Richard Metzger : How I , a married , middle - aged man , became an accidental spokesperson for gay rights overnight on Boing Boing It ’s time to clarify a few details about the controversial “ Hey Facebook what ’s SO wrong with a pic of two men kissing ?', '” story , as it now beginning to be reported in the mainstream media , and not always correctly .', 'First of all , with regards to the picture : The photo which was used to illustrate my first post about the John Snow Kiss - In is a promotional still from the British soap opera “ Eastenders .', '” It features one of the main characters from the show ( Christian Clarke , played by the actor John Partridge- left ) and someone else who I do n’t know .', 'I am not a regular viewer so I ca n’t say if the man on the right is an extra or an actual character .', 'This picture has itself caused scandal in the UK , as it was a gay kiss that was broadcast before the watershed , and as such led to a number of complaints to the BBC .', 'However , since this episode aired ( October 2008 ) Christian now has a boyfriend and a few more gay kisses have taken place .', 'In relation to the John Snow Kiss - In event , I used this particular photo because I considered it to be quite mild ( no groping , no tongues ) .', 'The photos I had considered using before I chose that one are much more racy .', 'Oh the irony !', 'Secondly , the removal of the Facebook John Snow Kiss - In event : It turns out that the Facebook event for the John Snow Kiss - In was not blocked by Facebook , but made private by the creator of the event itself .', 'Paul Shetler , the organizer , left this comment on the previous thread : “ Hey I just saw this .', 'Before it goes too far , I just want people to know that FB have NOT removed the kiss - in event page ; it ’s still there , but _ I made the  || News || Page 1 of 1 UPDATED : A photo of two men kissing that was posted on a Facebook page protesting a London pub ’s decision to eject a same - sex couple for kissing has been removed by the social networking site , an error , according to a rep for the company . \"', 'The photo in question does not violate our Statement of Rights and Responsibilities and was removed in error , \" the statement , obtained by America Blog , says .', 'We apologize for the inconvenience \" The Dangerous Minds Facebook page was set up to promote a “ gay kiss - in ” demonstration in London to protest the pub .', 'The page used a photo of two men kissing to promote the event .', 'According to NYULocal.com , the photo was quickly removed and the following e - mail was sent to administrators of the Facebook page : “ Shares that contain nudity , or any kind of graphic or sexually suggestive content , are not permitted on Facebook .', '” The decision to remove the photo has prompted scores of people to post their own pictures of same - sex couples kissing in protest — dozens in the last few hours alone .']\n",
      "[\"It 's the Golden State 's latest version of the Great Secession .\", \"Fed up by Sacramento 's regulations and Southern California 's political sway , residents in one rural Northern California county are taking steps to leave the state .\", 'The Siskiyou County Board of Supervisors voted , 4 - 1 , on Tuesday to pursue seceding from California , the Redding Record Searchlight reported .', 'Proponents say Siskiyou should form a new state -- called Jefferson -- with other counties in Northern California and Southern Oregon they believe share similar interests .', \"On Tuesday more than 100 people filled the supervisors ' chambers , many of whom indicated support for the declaration , the Searchlight reported .\", 'When a speaker asked those in the audience who was in favor , \" nearly every hand in the room was raised , \" the newspaper said . \"', 'Many proposed laws are unconstitutional and deny us our God - given rights , \" said Happy Camp resident Gabe Garrison . \"', 'We need our own state so we can make laws that fit our way of life . \"', '\" The state of Jefferson is the place I want to raise my son , \" Kayla Brown said .', 'Resident complaints include a lack of representation in Sacramento and insufficient attention to major issues for the county , such as water rights and a rural fire prevention fee , the Searchlight reported . \"', 'We have to have government that \\'s local , understands our issues and has empathy , \" said Mark Baird , a rancher who the Searchlight said was heading the effort .', 'Supervisor Marcia Armstrong cited restoration of limited government as one of the reasons she supported the declaration . \"', \"We also have  The Siskiyou County Board of Supervisors voted 4 - 1 on Tuesday to support the county 's split from the state of California .\", \"It 's the first in a long series of steps to form the proposed state of Jefferson , which proponents of the effort say would bring representation to rural North State counties that currently are beholden to the whims of representatives of the more heavily populated Southern California and free them from burdensome state regulations .\", \"” We have to have government that 's local , understands our issues and has empathy ” for those affected , said Mark Baird , a Scott Valley rancher who 's also president for Scott Valley Protect Our Water and vice president of the Siskiyou Water User 's Association .\", \"Baird is leading the charge to form a new state from rural counties in Northern California and Southern Oregon , though he certainly was n't the only voice in support of the move .\", \"More than 100 people packed the supervisors ' chambers Tuesday for the discussion on whether the county should issue a declaration that it wants to secede from the state .\", 'Nearly all those in attendance appeared to be for the move and about a dozen spoke in support of it .', '” Many proposed laws are unconstitutional and deny us our God - given rights , ” said Gabe Garrison of Happy Camp .', '“ We need our own state so we can make laws that fit our way of life .', '” Among those in attendance was Erin Ryan , field representative for Rep. Advertisement Doug LaMalfa .', \"When asked for the congressman 's opinion , she said that she\"]\n",
      "['The seed for this crawl was a list of every host in the Wayback Machine This crawl was run at a level 1 ( URLs including their embeds , plus the URLs of all outbound links including their embeds ) The WARC files associated with this crawl are not currently available to the general public .', \"Summary : Microsoft 's acquisition of Nokia is aimed at building a devices and services strategy , but the joint company wo n't take the same form as Apple .\", 'Microsoft has been working on its evolution into a devices and services company , away from the services business it has traditionally been , for several years now with limited success .', 'Its acquisition of most of Nokia is the latest acceleration of that strategy — to move further away from the moribund world of the beige desktop and towards the sunlit world of smartphones and tablets .', \"Owning the desktop ( via Windows ) and building additional services on top , like Office or search , has been vital for Microsoft 's strategy until now , so as our interest shifts from the desktop to the tablet or smartphone it 's essential to Microsoft 's broader business ( even Azure ) that it can retain that connection in some form .\", \"To be a winner in the business market  Microsoft is buying Nokia 's cell phone business and licensing its patent portfolio , according to both companies .\", \"In 2003 , Nokia 's cell phone market share exceeded 35 % .\", 'That same year , its phone business alone posted an operating profit of 5.48 billion euros .', \"Today 's sale price , which includes 1.65 billion euros in patents , is just 5.44 billion euros .\", \"It 's been a rough decade .\", \"Nokia 's cell phone collapse has been a spectacular one .\", 'The Finnish giant dominated the dumbphone era after Motorola , another faded star that recently fell into the hands of a comparative upstart .', 'But it was blindsided by Apple , then deprived of a chance to regain its footing by an even more aggressive Google , which followed close behind .', 'The story , in hindsight , is simple : Nokia did not have a truly compelling smartphone ready when a large segment of the developed world was first compelled by smartphones .', 'Whether this was the result  Hello there , There is a pertinent story about a man who was working on an oil platform in the North Sea .', 'He woke up one night from a loud explosion , which suddenly set his entire oil platform on fire .', 'In mere moments , he was surrounded by flames .', \"Through the smoke and heat , he barely made his way out of the chaos to the platform 's edge .\", 'When he looked down over the edge , all he could see were the dark , cold , foreboding Atlantic waters .', 'As the fire approached him , the man had mere seconds to react .', 'He could stand on the platform , and inevitably be consumed by the burning flames .', 'Or , he could plunge 30 meters in to the freezing waters .', 'The man was standing upon a \" burning platform , \" and he needed to make a choice .', 'He decided to jump .', 'It was unexpected .', 'In ordinary circumstances , the man would never']\n",
      "[\"After a year in which liberals scored impressive , high - profile Supreme Court victories , conservatives could be in line for wins on some of this term 's most contentious issues , as the justices consider cases that could gut public sector labor unions and roll back affirmative action at state universities .\", \"However , as the court 's new term kicks off Monday , uncertainty surrounds several other politically potent cases that could wind up on the court ’s agenda .\", 'Story Continued Below Litigation over state efforts to limit abortion by regulating clinics and doctors is making its way to the high court .', 'And the justices are already facing a batch of petitions involving the rights of religious institutions to opt out of providing contraception under Obamacare .', \"Both issues seem likely to land on this term 's docket , although the justices have n’t formally taken up either .\", 'Many in the Obama administration would also like to see the court weigh in on immigration in coming months , upholding the president ’s right to grant quasi - legal status and work permits to millions of immigrants who entered the U.S. illegally as children .', 'But it ’s unclear whether that fight will get to the justices in time for a decision this term or whether Obama ’s effort to expand his executive actions on immigration  The new term ’s biggest rulings will land in June , as the 2016 presidential campaign enters its final stretch , and they will help shape the political debate .', '“ Constitutional law and politics are certainly not the same thing , but they are interrelated , never more so than in a presidential election year that will likely determine who gets to appoint the next justice or two or three , ” said Vikram D. Amar , dean of the University of Illinois College of Law .', 'By the time the next president is inaugurated , Justice Stephen G. Breyer will be 78 , Justices Scalia and Kennedy will be 80 , and Justice Ruth Bader Ginsburg will be 83 .', '“ This coming term will again put into focus that the court is divided along partisan lines and that the 2016 presidential elections will be hugely consequential in shaping constitutional and other law for perhaps a generation or more , ” said Neal E. Devins , a law professor at William & Mary .', 'The current court is the first in history split along partisan lines , where the party of the president who appointed each justice is a reliable predictor of judicial ideology .', 'Put another way , all five Republican appointees are to the right of all four Democratic appointees .', 'It was not long  WASHINGTON — The death penalty is shaping up to be a big issue for the Supreme Court as it begins a new term Monday , with at least six capital - punishment cases on the docket and a recent wave of executions keeping the justices up late to field last - minute appeals .', 'In the weeks ahead , the court is set to hear arguments over the constitutionality of capital sentences in Florida , Georgia , Kansas and Pennsylvania .', 'The focus on execution issues follows a 5 - 4 ruling last term involving a sedative used for lethal injections .', 'The split ...']\n",
      "5622\n",
      "Docs data for analysis\n",
      "[[\"GOP Eyes Gains As Voters In 11 States Pick Governors Enlarge this image toggle caption Jim Cole / AP Jim Cole / AP Voters in 11 states will pick their governors tonight , and Republicans appear on track to increase their numbers by at least one , with the potential to extend their hold to more than two - thirds of the nation 's top state offices .\", 'Eight of the gubernatorial seats up for grabs are now held by Democrats ; three are in Republican hands .', \"Republicans currently hold 29 governorships , Democrats have 20 , and Rhode Island 's Gov.\", 'Lincoln Chafee is an Independent .', \"Polls and race analysts suggest that only three of tonight 's contests are considered competitive , all in states where incumbent Democratic governors are n't running again : Montana , New Hampshire and Washington .\", 'While those state races remain too close to call , Republicans are expected to wrest the North Carolina governorship from Democratic control , and to easily win GOP - held seats in Utah , North Dakota and Indiana .', 'Democrats are likely to hold on to their seats in West Virginia and Missouri , and are expected to notch safe wins in races for seats they hold in Vermont and Delaware .', \"Holding Sway On Health Care While the occupant of the governor 's office is historically far less important than the party that controls the state legislature , top state officials in coming years are expected to wield significant influence in at least one major area .\", 'And that \\'s health care , says political scientist Thad Kousser , co - author of The Power of American Governors . \"', \"No matter who wins the  GOP Eyes Gains As Voters In 11 States Pick Governors Jim Cole / AP i Jim Cole / AP Voters in 11 states will pick their governors tonight , and Republicans appear on track to increase their numbers by at least one , and with the potential to extend their hold to more than two - thirds of the nation 's top state offices .\", 'Eight of the gubernatorial seats up for grabs today are now held by Democrats ; three are in Republican hands .', \"Republicans currently hold 29 governorships , Democrats have 20 ; and Rhode Island 's Gov.\", 'Lincoln Chafee is an Independent .', \"Polls and race analysts suggest that only three of tonight 's contests are considered competitive , all in states where incumbent Democratic governors are n't running again : Montana , New Hampshire and Washington .\", 'While those state races remain too close to call , Republicans are expected to wrest the North Carolina governorship from Democratic control , and to easily win GOP - held seats in Utah , North Dakota and Indiana .', 'Democrats are likely hold on to their seats in West Virginia and Missouri ; and expected to notch safe wins in races for seats they hold in Vermont and Delaware .', \"Holding Sway On Health Care While the occupant of the governor 's office is historically far less important than the party that controls the state legislature , top state officials in coming years are expected to wield significant influence in at least one major area .\", 'And that \\'s health care , says political scientist Thad Kousser , co - author of The Power of American Governors . \"', 'No matter who wins the']]\n"
     ]
    }
   ],
   "source": [
    "with open('./summarizer/DocsData.txt', 'r') as file:\n",
    "    lines = file.readlines()\n",
    "\n",
    "doc_separator_tag=\"story_separator_special_tag\"\n",
    "cnt = 0\n",
    "line_sent_list = []\n",
    "for line in lines:\n",
    "    line = line.replace(doc_separator_tag, \"\")\n",
    "    sent_list = sentence_detector.tokenize(line.strip())\n",
    "    line_sent_list.append(sent_list)\n",
    "    cnt += 1\n",
    "    if cnt <= 5:\n",
    "        print(sent_list)\n",
    "\n",
    "print(len(line_sent_list))\n",
    "docs = line_sent_list[:1]\n",
    "print('Docs data for analysis')\n",
    "print(docs)"
   ]
  },
  {
   "attachments": {},
   "cell_type": "markdown",
   "metadata": {},
   "source": [
    "Graph Construction Step (Node will be a sentence)"
   ]
  },
  {
   "cell_type": "code",
   "execution_count": 13,
   "metadata": {},
   "outputs": [],
   "source": [
    "#using spacynlp for POS(part of speech) tagging\n",
    "spacynlp=spacy.load(\"en_core_web_sm\")\n",
    "verbs_to_escape = [\"be\", \"is\",\"am\",\"are\",\"was\", \"were\", \"being\",\"been\",\"do\",\"did\",\n",
    "               \"done\",\"have\",\"had\",\"get\",\"got\",\"gotten\"]\n",
    "\n",
    "discourseMarkers=[\"for\",\"so\",\"because\",\"since\",\"therefore\",\"consequently\",\"additionally\",\"furthermore\",\"moreover\",\n",
    "         \"but\",\"however\",\"although\",\"despite\",\"similarly\",\"otherwise\",\"whereas\",\"while\",\"unlike\",\"thus\",\n",
    "        \"instead\",\"nevertheless\",\"afterward\",\"finally\",\"subsequently\",\"conversely\",\"later\",\"next\",\"then\",\n",
    "         \"likewise\",\"compared\",\"besides\",\"further\",\"as\",\"also\",\"equally\",\"hence\",\"accordingly\",\"stil\",\n",
    "        \"simultaneously\"]\n",
    "\n",
    "def convert_verb_to_nouns(sentence):\n",
    "    tokens = spacynlp(sentence)\n",
    "    nouns_arr = []\n",
    "    for token in tokens:\n",
    "        if token.pos_ == 'VERB' and token.text not in verbs_to_escape:\n",
    "            tokenNouns = getNouns(token.text)\n",
    "            # print('Here ', token.text, '-->> ', tokenNouns)\n",
    "            nouns_arr.extend(tokenNouns)\n",
    "            # print(nouns_arr)\n",
    "    return nouns_arr\n",
    "\n",
    "#Using getNouns to get lemmas(base word) of verbs\n",
    "def getNouns(verb):\n",
    "    baseform = wn.morphy(verb, wn.VERB)\n",
    "    if baseform:\n",
    "        lemmas = wn.lemmas(baseform, pos='v')\n",
    "        noun_forms = []\n",
    "        for lemma in lemmas:\n",
    "            nouns = [form.name() for form in lemma.derivationally_related_forms()]\n",
    "            noun_forms.extend(nouns)\n",
    "        noun_forms = OrderedSet(noun_forms)\n",
    "        return noun_forms\n",
    "    else:\n",
    "        return []\n",
    "    \n",
    "#find similar nouns based on cosine similarity from glove vectors dataset\n",
    "def find_similar_nouns(nouns_list, word_vecs, thres=0.75):\n",
    "    similar_nouns = []\n",
    "    nouns = list(set(nouns_list))\n",
    "    for noun in nouns:\n",
    "        try:\n",
    "            sim_word_list = word_vecs.most_similar(positive=[noun])\n",
    "            sim_word_list = [tup[0] for tup in sim_word_list if tup[1]>thres]\n",
    "            similar_nouns.extend(sim_word_list)\n",
    "        except KeyError:\n",
    "            pass\n",
    "        similar_nouns.extend(nouns_list)\n",
    "        return list(set(similar_nouns))\n",
    "    \n",
    "#Check for deverbal nouns in successive sentence\n",
    "def check_deverbal_noun(similar_nouns, sent2):\n",
    "    edge = False\n",
    "    sent2words = spacynlp(sent2)\n",
    "    if len(sent2words)>0:\n",
    "        for token in sent2words:\n",
    "            if token.pos_ == 'NOUN':\n",
    "                if token.text in similar_nouns:\n",
    "                    edge = True\n",
    "                    break\n",
    "    return edge\n",
    "\n",
    "def check_discourse_markers(sent1, sent2):\n",
    "    edge = False\n",
    "    sent2words = spacynlp(sent2)\n",
    "    if len(sent2words)>0:\n",
    "        firstWord = sent2words[0].text\n",
    "        if firstWord.lower() in discourseMarkers:\n",
    "            edge = True\n",
    "    return edge\n",
    "\n",
    "def check_entity_continuation(sent1, sent2):\n",
    "    edge = False\n",
    "    words1 = spacynlp(sent1)\n",
    "    words2 = spacynlp(sent2)\n",
    "    if len(words1) > 0 and len(words2) > 0:\n",
    "        entity1 = [(ent.text, ent.label_) for ent in words1.ents]\n",
    "        entity2 = [(ent.text, ent.label_) for ent in words2.ents]\n",
    "        for (text, label) in entity1:\n",
    "            if (text, label) in entity2:\n",
    "                edge=True\n",
    "                break\n",
    "    return edge\n",
    "    \n",
    "\n",
    "def checkCosineSimilarity(sent1Vec, sent2Vec):\n",
    "    edge = False\n",
    "    similarity = 1 - scipy.spatial.distance.cosine(sent1Vec,sent2Vec)\n",
    "    if similarity >= 0.55:\n",
    "        edge = True\n",
    "    return edge\n",
    "    "
   ]
  },
  {
   "cell_type": "code",
   "execution_count": 15,
   "metadata": {},
   "outputs": [
    {
     "name": "stdout",
     "output_type": "stream",
     "text": [
      "Number of nodes:  19\n"
     ]
    },
    {
     "name": "stderr",
     "output_type": "stream",
     "text": [
      "2023-05-06 11:14:48.130206: I tensorflow/core/common_runtime/executor.cc:1197] [/device:CPU:0] (DEBUG INFO) Executor start aborting (this does not indicate an error and you can ignore this message): INVALID_ARGUMENT: You must feed a value for placeholder tensor 'inputs' with dtype string\n",
      "\t [[{{node inputs}}]]\n"
     ]
    },
    {
     "name": "stdout",
     "output_type": "stream",
     "text": [
      "[\"GOP Eyes Gains As Voters In 11 States Pick Governors Enlarge this image toggle caption Jim Cole / AP Jim Cole / AP Voters in 11 states will pick their governors tonight , and Republicans appear on track to increase their numbers by at least one , with the potential to extend their hold to more than two - thirds of the nation 's top state offices .\", 'Eight of the gubernatorial seats up for grabs are now held by Democrats ; three are in Republican hands .', \"Republicans currently hold 29 governorships , Democrats have 20 , and Rhode Island 's Gov.\", 'Lincoln Chafee is an Independent .', \"Polls and race analysts suggest that only three of tonight 's contests are considered competitive , all in states where incumbent Democratic governors are n't running again : Montana , New Hampshire and Washington .\", 'While those state races remain too close to call , Republicans are expected to wrest the North Carolina governorship from Democratic control , and to easily win GOP - held seats in Utah , North Dakota and Indiana .', 'Democrats are likely to hold on to their seats in West Virginia and Missouri , and are expected to notch safe wins in races for seats they hold in Vermont and Delaware .', \"Holding Sway On Health Care While the occupant of the governor 's office is historically far less important than the party that controls the state legislature , top state officials in coming years are expected to wield significant influence in at least one major area .\", 'And that \\'s health care , says political scientist Thad Kousser , co - author of The Power of American Governors . \"', \"No matter who wins the  GOP Eyes Gains As Voters In 11 States Pick Governors Jim Cole / AP i Jim Cole / AP Voters in 11 states will pick their governors tonight , and Republicans appear on track to increase their numbers by at least one , and with the potential to extend their hold to more than two - thirds of the nation 's top state offices .\", 'Eight of the gubernatorial seats up for grabs today are now held by Democrats ; three are in Republican hands .', \"Republicans currently hold 29 governorships , Democrats have 20 ; and Rhode Island 's Gov.\", 'Lincoln Chafee is an Independent .', \"Polls and race analysts suggest that only three of tonight 's contests are considered competitive , all in states where incumbent Democratic governors are n't running again : Montana , New Hampshire and Washington .\", 'While those state races remain too close to call , Republicans are expected to wrest the North Carolina governorship from Democratic control , and to easily win GOP - held seats in Utah , North Dakota and Indiana .', 'Democrats are likely hold on to their seats in West Virginia and Missouri ; and expected to notch safe wins in races for seats they hold in Vermont and Delaware .', \"Holding Sway On Health Care While the occupant of the governor 's office is historically far less important than the party that controls the state legislature , top state officials in coming years are expected to wield significant influence in at least one major area .\", 'And that \\'s health care , says political scientist Thad Kousser , co - author of The Power of American Governors . \"', 'No matter who wins the']\n",
      "[[0. 0. 1. 0. 1. 1. 0. 1. 0. 1. 0. 1. 0. 1. 1. 0. 1. 0. 0.]\n",
      " [0. 0. 1. 0. 0. 0. 1. 0. 0. 0. 1. 1. 0. 0. 0. 1. 0. 0. 0.]\n",
      " [1. 1. 0. 0. 0. 1. 1. 0. 0. 1. 1. 1. 0. 0. 1. 1. 0. 0. 0.]\n",
      " [0. 0. 0. 0. 0. 0. 0. 0. 0. 0. 0. 0. 1. 0. 0. 0. 0. 0. 0.]\n",
      " [1. 0. 0. 0. 0. 1. 0. 0. 0. 1. 0. 0. 0. 1. 1. 0. 0. 0. 0.]\n",
      " [1. 0. 1. 0. 1. 0. 1. 0. 0. 1. 0. 1. 0. 1. 1. 1. 0. 0. 0.]\n",
      " [0. 1. 1. 0. 0. 1. 0. 0. 0. 0. 1. 1. 0. 0. 1. 1. 0. 0. 0.]\n",
      " [1. 0. 0. 0. 0. 0. 0. 0. 0. 1. 0. 0. 0. 0. 0. 0. 1. 0. 0.]\n",
      " [0. 0. 0. 0. 0. 0. 0. 0. 0. 0. 0. 0. 0. 0. 0. 0. 0. 1. 0.]\n",
      " [1. 0. 1. 0. 1. 1. 0. 1. 0. 0. 0. 1. 0. 1. 1. 0. 1. 0. 0.]\n",
      " [0. 1. 1. 0. 0. 0. 1. 0. 0. 0. 0. 1. 0. 0. 0. 1. 0. 0. 0.]\n",
      " [1. 1. 1. 0. 0. 1. 1. 0. 0. 1. 1. 0. 0. 0. 1. 1. 0. 0. 0.]\n",
      " [0. 0. 0. 1. 0. 0. 0. 0. 0. 0. 0. 0. 0. 0. 0. 0. 0. 0. 0.]\n",
      " [1. 0. 0. 0. 1. 1. 0. 0. 0. 1. 0. 0. 0. 0. 1. 0. 0. 0. 0.]\n",
      " [1. 0. 1. 0. 1. 1. 1. 0. 0. 1. 0. 1. 0. 1. 0. 1. 0. 0. 0.]\n",
      " [0. 1. 1. 0. 0. 1. 1. 0. 0. 0. 1. 1. 0. 0. 1. 0. 0. 0. 0.]\n",
      " [1. 0. 0. 0. 0. 0. 0. 1. 0. 1. 0. 0. 0. 0. 0. 0. 0. 0. 0.]\n",
      " [0. 0. 0. 0. 0. 0. 0. 0. 1. 0. 0. 0. 0. 0. 0. 0. 0. 0. 0.]\n",
      " [0. 0. 0. 0. 0. 0. 0. 0. 0. 0. 0. 0. 0. 0. 0. 0. 0. 0. 0.]]\n"
     ]
    },
    {
     "data": {
      "image/png": "[encoded data removed]",
      "text/plain": [
       "<Figure size 640x480 with 1 Axes>"
      ]
     },
     "metadata": {},
     "output_type": "display_data"
    },
    {
     "name": "stdout",
     "output_type": "stream",
     "text": [
      "{0: 0.5, 1: 0.2777777777777778, 2: 0.5, 3: 0.05555555555555555, 4: 0.2777777777777778, 5: 0.5, 6: 0.38888888888888884, 7: 0.16666666666666666, 8: 0.05555555555555555, 9: 0.5, 10: 0.2777777777777778, 11: 0.5, 12: 0.05555555555555555, 13: 0.2777777777777778, 14: 0.5, 15: 0.38888888888888884, 16: 0.16666666666666666, 17: 0.05555555555555555, 18: 0.0}\n"
     ]
    }
   ],
   "source": [
    "embed_size = 512 #for tensorflow embedding\n",
    "adj_matrix = None\n",
    "sentence_embeddings_matrix = None\n",
    "use_tensorflow_embedding = hub.load('./universal-sentence-encoder_4')\n",
    "\n",
    "#declares adjacency matrix and gives number of nodes and sentence embeddings(vector of size 512, per sentence)\n",
    "def build_sentence_graph(document):\n",
    "    num_nodes = len(document)\n",
    "    # print(document)\n",
    "    print('Number of nodes: ', num_nodes)\n",
    "    sentence_embeddings_matrix = np.zeros([num_nodes, embed_size])\n",
    "    adj_matrix = np.zeros([num_nodes, num_nodes])\n",
    "    cnt = 0\n",
    "    for sentence in document:\n",
    "        sentence_embeddings_matrix[cnt] = use_tensorflow_embedding([sentence]).numpy()[0]\n",
    "        cnt += 1\n",
    "    return  num_nodes, adj_matrix,sentence_embeddings_matrix\n",
    "\n",
    "\n",
    "\n",
    "\n",
    "#Fills Adjacency Matrix\n",
    "def connect_sentence_nodes(document, num_nodes, adj_matrix, sentence_embeddings_matrix):\n",
    "    for i in range(num_nodes):\n",
    "        connect = False\n",
    "        sentence1 = document[i]\n",
    "        for j in range(i+1, num_nodes):\n",
    "            sentence2 = document[j]\n",
    "            if j-i == 1:\n",
    "                nouns_list = convert_verb_to_nouns(sentence1)\n",
    "                similar_nouns_list = find_similar_nouns(nouns_list, glove_word_vectors, 0.5)\n",
    "                # print('Similar Nouns list: ', similar_nouns_list, ' for sentence ', sentence1)\n",
    "                if similar_nouns_list is not None:\n",
    "                    connect = check_deverbal_noun(similar_nouns_list, sentence2)\n",
    "                if connect == False:\n",
    "                    connect = check_discourse_markers(sentence1, sentence2)\n",
    "            else:\n",
    "                connect = check_entity_continuation(sentence1, sentence2)\n",
    "            if connect == False:\n",
    "                connect = checkCosineSimilarity(sentence_embeddings_matrix[i,], sentence_embeddings_matrix[j,])\n",
    "            if connect == True:\n",
    "                adj_matrix[i,j] = 1\n",
    "                adj_matrix[j,i] = 1\n",
    "    return adj_matrix\n",
    "\n",
    "def visualize(adj_mat):\n",
    "    G = nx.from_numpy_array(adj_mat)\n",
    "    nx.draw(G, with_labels=True)\n",
    "    plt.show()\n",
    "    degree_centrality = nx.degree_centrality(G)\n",
    "    print(degree_centrality)\n",
    "\n",
    "for doc in docs:\n",
    "    num_nodes, adj_matrix, sentence_embeddings_matrix = build_sentence_graph(doc)\n",
    "    adj_matrix = connect_sentence_nodes(doc, num_nodes, adj_matrix, sentence_embeddings_matrix)\n",
    "    print(doc)\n",
    "    print(adj_matrix)\n",
    "    visualize(adj_matrix)"
   ]
  },
  {
   "attachments": {},
   "cell_type": "markdown",
   "metadata": {},
   "source": [
    "Perform Spectral Clustering on the Constructed Graph"
   ]
  },
  {
   "cell_type": "code",
   "execution_count": 18,
   "metadata": {},
   "outputs": [
    {
     "name": "stdout",
     "output_type": "stream",
     "text": [
      "[\"GOP Eyes Gains As Voters In 11 States Pick Governors Enlarge this image toggle caption Jim Cole / AP Jim Cole / AP Voters in 11 states will pick their governors tonight , and Republicans appear on track to increase their numbers by at least one , with the potential to extend their hold to more than two - thirds of the nation 's top state offices .\", 'Eight of the gubernatorial seats up for grabs are now held by Democrats ; three are in Republican hands .', \"Republicans currently hold 29 governorships , Democrats have 20 , and Rhode Island 's Gov.\", 'Lincoln Chafee is an Independent .', \"Polls and race analysts suggest that only three of tonight 's contests are considered competitive , all in states where incumbent Democratic governors are n't running again : Montana , New Hampshire and Washington .\", 'While those state races remain too close to call , Republicans are expected to wrest the North Carolina governorship from Democratic control , and to easily win GOP - held seats in Utah , North Dakota and Indiana .', 'Democrats are likely to hold on to their seats in West Virginia and Missouri , and are expected to notch safe wins in races for seats they hold in Vermont and Delaware .', \"Holding Sway On Health Care While the occupant of the governor 's office is historically far less important than the party that controls the state legislature , top state officials in coming years are expected to wield significant influence in at least one major area .\", 'And that \\'s health care , says political scientist Thad Kousser , co - author of The Power of American Governors . \"', \"No matter who wins the  GOP Eyes Gains As Voters In 11 States Pick Governors Jim Cole / AP i Jim Cole / AP Voters in 11 states will pick their governors tonight , and Republicans appear on track to increase their numbers by at least one , and with the potential to extend their hold to more than two - thirds of the nation 's top state offices .\", 'Eight of the gubernatorial seats up for grabs today are now held by Democrats ; three are in Republican hands .', \"Republicans currently hold 29 governorships , Democrats have 20 ; and Rhode Island 's Gov.\", 'Lincoln Chafee is an Independent .', \"Polls and race analysts suggest that only three of tonight 's contests are considered competitive , all in states where incumbent Democratic governors are n't running again : Montana , New Hampshire and Washington .\", 'While those state races remain too close to call , Republicans are expected to wrest the North Carolina governorship from Democratic control , and to easily win GOP - held seats in Utah , North Dakota and Indiana .', 'Democrats are likely hold on to their seats in West Virginia and Missouri ; and expected to notch safe wins in races for seats they hold in Vermont and Delaware .', \"Holding Sway On Health Care While the occupant of the governor 's office is historically far less important than the party that controls the state legislature , top state officials in coming years are expected to wield significant influence in at least one major area .\", 'And that \\'s health care , says political scientist Thad Kousser , co - author of The Power of American Governors . \"', 'No matter who wins the']\n",
      "[3 5 4 1 6 2 0 7 1 3 5 4 1 6 2 0 7 1 1]\n",
      "Here-->> {0: ['Democrats are likely to hold on to their seats in West Virginia and Missouri , and are expected to notch safe wins in races for seats they hold in Vermont and Delaware .', 'Democrats are likely hold on to their seats in West Virginia and Missouri ; and expected to notch safe wins in races for seats they hold in Vermont and Delaware .'], 1: ['Lincoln Chafee is an Independent .', 'And that \\'s health care , says political scientist Thad Kousser , co - author of The Power of American Governors . \"', 'Lincoln Chafee is an Independent .', 'And that \\'s health care , says political scientist Thad Kousser , co - author of The Power of American Governors . \"', 'No matter who wins the'], 2: ['While those state races remain too close to call , Republicans are expected to wrest the North Carolina governorship from Democratic control , and to easily win GOP - held seats in Utah , North Dakota and Indiana .', 'While those state races remain too close to call , Republicans are expected to wrest the North Carolina governorship from Democratic control , and to easily win GOP - held seats in Utah , North Dakota and Indiana .'], 3: [\"GOP Eyes Gains As Voters In 11 States Pick Governors Enlarge this image toggle caption Jim Cole / AP Jim Cole / AP Voters in 11 states will pick their governors tonight , and Republicans appear on track to increase their numbers by at least one , with the potential to extend their hold to more than two - thirds of the nation 's top state offices .\", \"No matter who wins the  GOP Eyes Gains As Voters In 11 States Pick Governors Jim Cole / AP i Jim Cole / AP Voters in 11 states will pick their governors tonight , and Republicans appear on track to increase their numbers by at least one , and with the potential to extend their hold to more than two - thirds of the nation 's top state offices .\"], 4: [\"Republicans currently hold 29 governorships , Democrats have 20 , and Rhode Island 's Gov.\", \"Republicans currently hold 29 governorships , Democrats have 20 ; and Rhode Island 's Gov.\"], 5: ['Eight of the gubernatorial seats up for grabs are now held by Democrats ; three are in Republican hands .', 'Eight of the gubernatorial seats up for grabs today are now held by Democrats ; three are in Republican hands .'], 6: [\"Polls and race analysts suggest that only three of tonight 's contests are considered competitive , all in states where incumbent Democratic governors are n't running again : Montana , New Hampshire and Washington .\", \"Polls and race analysts suggest that only three of tonight 's contests are considered competitive , all in states where incumbent Democratic governors are n't running again : Montana , New Hampshire and Washington .\"], 7: [\"Holding Sway On Health Care While the occupant of the governor 's office is historically far less important than the party that controls the state legislature , top state officials in coming years are expected to wield significant influence in at least one major area .\", \"Holding Sway On Health Care While the occupant of the governor 's office is historically far less important than the party that controls the state legislature , top state officials in coming years are expected to wield significant influence in at least one major area .\"]}\n"
     ]
    },
    {
     "name": "stderr",
     "output_type": "stream",
     "text": [
      "/home/siddhant/Documents/Acads/SEM2/SMAI/project/Summpip/.venv/lib/python3.10/site-packages/sklearn/cluster/_spectral.py:717: UserWarning: The spectral clustering API has changed. ``fit``now constructs an affinity matrix from data. To use a custom affinity matrix, set ``affinity=precomputed``.\n",
      "  warnings.warn(\n"
     ]
    }
   ],
   "source": [
    "cluster_dict_final = {}\n",
    "def spectralClustering(adj_mat, doc):\n",
    "    clustering = SpectralClustering(n_clusters = 8, random_state = 88).fit(adj_mat)\n",
    "    clusterIDs = clustering.labels_\n",
    "    print(clusterIDs)\n",
    "    num_clusters = max(clusterIDs)+1\n",
    "    cluster_dict={new_list:[] for new_list in range(num_clusters)}\n",
    "    for idx, id in enumerate(clusterIDs):\n",
    "        cluster_dict[id].append(doc[idx])\n",
    "    return cluster_dict\n",
    "\n",
    "for doc in docs:\n",
    "    print(doc)\n",
    "    cluster_dict_final = spectralClustering(adj_matrix, doc)"
   ]
  },
  {
   "cell_type": "markdown",
   "metadata": {},
   "source": [
    "Generate Summary from the Clusters Generated"
   ]
  },
  {
   "cell_type": "code",
   "execution_count": 33,
   "metadata": {},
   "outputs": [
    {
     "name": "stdout",
     "output_type": "stream",
     "text": [
      "democrats are likely hold on to their seats in west virginia and missouri ; and expected to notch safe wins in races for seats they hold in vermont and delaware .\n",
      "lincoln chafee is an independent .\n",
      "while those state races remain too close to call , republicans are expected to wrest the north carolina governorship from democratic control , and to easily win gop - held seats in utah , north dakota and indiana .\n",
      "gop eyes gains as voters in 11 states pick governors jim cole / ap jim cole / ap voters in 11 states will pick their governors tonight , and republicans appear on track to increase their numbers by at least one , with the potential to extend their hold to more than two - thirds of the nation 's top state offices .\n",
      "republicans currently hold 29 governorships , democrats have 20 , and rhode island 's gov.\n",
      "eight of the gubernatorial seats up for grabs today are now held by democrats ; three are in republican hands .\n",
      "polls and race analysts suggest that only three of tonight 's contests are considered competitive , all in states where incumbent democratic governors are n't running again : montana , new hampshire and washington .\n",
      "holding sway on health care while the occupant of the governor 's office is historically far less important than the party that controls the state legislature , top state officials in coming years are expected to wield significant influence in at least one major area .\n"
     ]
    }
   ],
   "source": [
    "import takahe\n",
    "\n",
    "def tag_pos(sentence):\n",
    "    words = spacynlp(sentence)\n",
    "    textlist = []\n",
    "    for word in words:\n",
    "        token = word.text\n",
    "        pos = word.tag_\n",
    "        textlist.append(token+'/'+pos)\n",
    "    return ' '.join(textlist)\n",
    "    \n",
    "def convert_to_tagged_sentences(sentences):\n",
    "    tagged_list = []\n",
    "    if len(sentences):\n",
    "        for sentence in sentences:\n",
    "            sentence.replace('/','')\n",
    "            sent_tagged = tag_pos(sentence)\n",
    "            tagged_list.append(sent_tagged)\n",
    "    else:\n",
    "        tagged_list.append(tag_pos(\".\"))\n",
    "    return tagged_list\n",
    "\n",
    "\n",
    "def getCompressedSentence(sentences):\n",
    "    compresser = takahe.word_graph(sentence_list = sentences, nb_words = 5, lang = 'en', punct_tag = \".\" )\n",
    "    candidates = compresser.get_compression(3)\n",
    "    reranker = takahe.keyphrase_reranker(sentences, candidates, lang = 'en')\n",
    "\n",
    "    reranked_candidates = reranker.rerank_nbest_compressions()\n",
    "    # print(reranked_candidates)\n",
    "    if len(reranked_candidates)>0:\n",
    "        score, path = reranked_candidates[0]\n",
    "        result = ' '.join([u[0] for u in path])\n",
    "    else:\n",
    "        result=' '\n",
    "    return result\n",
    "\n",
    "def perform_cluster_compression(cluster_dict):\n",
    "    generated_summary = []\n",
    "    for clusterID, sentences in cluster_dict.items():\n",
    "        tagged_sentences = convert_to_tagged_sentences(sentences)\n",
    "        print(getCompressedSentence(tagged_sentences))\n",
    "\n",
    "perform_cluster_compression(cluster_dict_final)"
   ]
  }
 ],
 "metadata": {
  "kernelspec": {
   "display_name": ".venv",
   "language": "python",
   "name": "python3"
  },
  "language_info": {
   "codemirror_mode": {
    "name": "ipython",
    "version": 3
   },
   "file_extension": ".py",
   "mimetype": "text/x-python",
   "name": "python",
   "nbconvert_exporter": "python",
   "pygments_lexer": "ipython3",
   "version": "3.10.6"
  },
  "orig_nbformat": 4
 },
 "nbformat": 4,
 "nbformat_minor": 2
}
